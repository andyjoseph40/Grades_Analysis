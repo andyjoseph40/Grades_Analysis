{
 "cells": [
  {
   "cell_type": "code",
   "execution_count": 76,
   "id": "141d0711",
   "metadata": {},
   "outputs": [
    {
     "data": {
      "text/plain": [
       "array([85, 90, 88, 92, 95, 80, 75, 98, 89, 83])"
      ]
     },
     "execution_count": 76,
     "metadata": {},
     "output_type": "execute_result"
    }
   ],
   "source": [
    "# Creating a numpy array\n",
    "\n",
    "import numpy as np\n",
    "grades = np.array([85, 90, 88, 92, 95, 80, 75, 98, 89, 83])\n",
    "grades"
   ]
  },
  {
   "cell_type": "code",
   "execution_count": 77,
   "id": "9c97c338",
   "metadata": {},
   "outputs": [
    {
     "data": {
      "text/plain": [
       "array([85, 90, 88, 92, 95, 80, 75, 98, 89, 83])"
      ]
     },
     "execution_count": 77,
     "metadata": {},
     "output_type": "execute_result"
    }
   ],
   "source": [
    "# Calculating Mean\n",
    "grades"
   ]
  },
  {
   "cell_type": "code",
   "execution_count": 78,
   "id": "0fd4a01a",
   "metadata": {},
   "outputs": [
    {
     "name": "stdout",
     "output_type": "stream",
     "text": [
      "87.5\n"
     ]
    }
   ],
   "source": [
    "print(np.mean(grades))"
   ]
  },
  {
   "cell_type": "code",
   "execution_count": 79,
   "id": "3c1aa80e",
   "metadata": {},
   "outputs": [
    {
     "data": {
      "text/plain": [
       "array([85, 90, 88, 92, 95, 80, 75, 98, 89, 83])"
      ]
     },
     "execution_count": 79,
     "metadata": {},
     "output_type": "execute_result"
    }
   ],
   "source": [
    "# Calculating Median\n",
    "grades"
   ]
  },
  {
   "cell_type": "code",
   "execution_count": 80,
   "id": "6cdc4165",
   "metadata": {},
   "outputs": [
    {
     "name": "stdout",
     "output_type": "stream",
     "text": [
      "88.5\n"
     ]
    }
   ],
   "source": [
    "print(np.median(grades))"
   ]
  },
  {
   "cell_type": "code",
   "execution_count": 81,
   "id": "01228630",
   "metadata": {},
   "outputs": [
    {
     "data": {
      "text/plain": [
       "array([85, 90, 88, 92, 95, 80, 75, 98, 89, 83])"
      ]
     },
     "execution_count": 81,
     "metadata": {},
     "output_type": "execute_result"
    }
   ],
   "source": [
    "# Calculating Standard Deviation\n",
    "grades"
   ]
  },
  {
   "cell_type": "code",
   "execution_count": 82,
   "id": "9f7e3e1a",
   "metadata": {},
   "outputs": [
    {
     "name": "stdout",
     "output_type": "stream",
     "text": [
      "6.591661399070799\n"
     ]
    }
   ],
   "source": [
    "print(np.std(grades))"
   ]
  },
  {
   "cell_type": "code",
   "execution_count": 83,
   "id": "2cf897ec",
   "metadata": {},
   "outputs": [
    {
     "data": {
      "text/plain": [
       "array([85, 90, 88, 92, 95, 80, 75, 98, 89, 83])"
      ]
     },
     "execution_count": 83,
     "metadata": {},
     "output_type": "execute_result"
    }
   ],
   "source": [
    "# Finding Max and Min of the grades\n",
    "grades"
   ]
  },
  {
   "cell_type": "code",
   "execution_count": 84,
   "id": "fcdc31d1",
   "metadata": {},
   "outputs": [
    {
     "name": "stdout",
     "output_type": "stream",
     "text": [
      "98\n"
     ]
    }
   ],
   "source": [
    "print(np.max(grades)) # Maximum of the grades"
   ]
  },
  {
   "cell_type": "code",
   "execution_count": 85,
   "id": "6fd513dd",
   "metadata": {},
   "outputs": [
    {
     "name": "stdout",
     "output_type": "stream",
     "text": [
      "75\n"
     ]
    }
   ],
   "source": [
    "print(np.min(grades)) # Minimum of the grades"
   ]
  },
  {
   "cell_type": "code",
   "execution_count": 86,
   "id": "55070383",
   "metadata": {},
   "outputs": [
    {
     "data": {
      "text/plain": [
       "array([85, 90, 88, 92, 95, 80, 75, 98, 89, 83])"
      ]
     },
     "execution_count": 86,
     "metadata": {},
     "output_type": "execute_result"
    }
   ],
   "source": [
    "# Sorting the grades in Ascending order\n",
    "grades"
   ]
  },
  {
   "cell_type": "code",
   "execution_count": 87,
   "id": "f3024bd1",
   "metadata": {},
   "outputs": [],
   "source": [
    "grades = np.sort(grades)"
   ]
  },
  {
   "cell_type": "code",
   "execution_count": 88,
   "id": "4a5eb356",
   "metadata": {},
   "outputs": [
    {
     "data": {
      "text/plain": [
       "array([75, 80, 83, 85, 88, 89, 90, 92, 95, 98])"
      ]
     },
     "execution_count": 88,
     "metadata": {},
     "output_type": "execute_result"
    }
   ],
   "source": [
    "grades"
   ]
  },
  {
   "cell_type": "code",
   "execution_count": 89,
   "id": "daadc3c6",
   "metadata": {},
   "outputs": [
    {
     "data": {
      "text/plain": [
       "array([75, 80, 83, 85, 88, 89, 90, 92, 95, 98])"
      ]
     },
     "execution_count": 89,
     "metadata": {},
     "output_type": "execute_result"
    }
   ],
   "source": [
    "# Finding the index of the highest grade\n",
    "grades"
   ]
  },
  {
   "cell_type": "code",
   "execution_count": 90,
   "id": "ecfb6c2b",
   "metadata": {},
   "outputs": [
    {
     "data": {
      "text/plain": [
       "98"
      ]
     },
     "execution_count": 90,
     "metadata": {},
     "output_type": "execute_result"
    }
   ],
   "source": [
    "grades[-1]"
   ]
  },
  {
   "cell_type": "code",
   "execution_count": 91,
   "id": "607bbb0f",
   "metadata": {},
   "outputs": [
    {
     "data": {
      "text/plain": [
       "array([75, 80, 83, 85, 88, 89, 90, 92, 95, 98])"
      ]
     },
     "execution_count": 91,
     "metadata": {},
     "output_type": "execute_result"
    }
   ],
   "source": [
    "# Number of Students who scored above 90\n",
    "grades"
   ]
  },
  {
   "cell_type": "code",
   "execution_count": 92,
   "id": "f67ebcdf",
   "metadata": {},
   "outputs": [
    {
     "data": {
      "text/plain": [
       "array([92, 95, 98])"
      ]
     },
     "execution_count": 92,
     "metadata": {},
     "output_type": "execute_result"
    }
   ],
   "source": [
    "grades[grades > 90]"
   ]
  },
  {
   "cell_type": "code",
   "execution_count": 93,
   "id": "ee9eed9a",
   "metadata": {},
   "outputs": [
    {
     "data": {
      "text/plain": [
       "array([85, 90, 88, 92, 95, 80, 75, 98, 89, 83])"
      ]
     },
     "execution_count": 93,
     "metadata": {},
     "output_type": "execute_result"
    }
   ],
   "source": [
    "# Percentage of Students who scored above 90\n",
    "import numpy as np\n",
    "grades = np.array([85, 90, 88, 92, 95, 80, 75, 98, 89, 83])\n",
    "grades"
   ]
  },
  {
   "cell_type": "code",
   "execution_count": 94,
   "id": "da0613cd",
   "metadata": {},
   "outputs": [
    {
     "data": {
      "text/plain": [
       "30.0"
      ]
     },
     "execution_count": 94,
     "metadata": {},
     "output_type": "execute_result"
    }
   ],
   "source": [
    "np.mean(grades > 90) * 100 # Percentage of Students who scored above 90"
   ]
  },
  {
   "cell_type": "code",
   "execution_count": 95,
   "id": "66ffde54",
   "metadata": {},
   "outputs": [
    {
     "data": {
      "text/plain": [
       "90.0"
      ]
     },
     "execution_count": 95,
     "metadata": {},
     "output_type": "execute_result"
    }
   ],
   "source": [
    "# Percentage of Students who scored above 75\n",
    "np.mean(grades > 75) * 100"
   ]
  },
  {
   "cell_type": "code",
   "execution_count": 96,
   "id": "21487e1a",
   "metadata": {},
   "outputs": [
    {
     "data": {
      "text/plain": [
       "array([85, 90, 88, 92, 95, 80, 75, 98, 89, 83])"
      ]
     },
     "execution_count": 96,
     "metadata": {},
     "output_type": "execute_result"
    }
   ],
   "source": [
    "# Extracting all the grades above 90 and put them in a new array called \"high_performers\".\n",
    "\n",
    "import numpy as np\n",
    "grades = np.array([85, 90, 88, 92, 95, 80, 75, 98, 89, 83])\n",
    "grades"
   ]
  },
  {
   "cell_type": "code",
   "execution_count": 97,
   "id": "d6c8dd6c",
   "metadata": {},
   "outputs": [
    {
     "data": {
      "text/plain": [
       "array([92, 95, 98])"
      ]
     },
     "execution_count": 97,
     "metadata": {},
     "output_type": "execute_result"
    }
   ],
   "source": [
    "grades[grades > 90]"
   ]
  },
  {
   "cell_type": "code",
   "execution_count": 98,
   "id": "c32c0f0b",
   "metadata": {},
   "outputs": [],
   "source": [
    "high_performers = grades[grades > 90]  # Giving the array a new variable"
   ]
  },
  {
   "cell_type": "code",
   "execution_count": 99,
   "id": "e04b1969",
   "metadata": {},
   "outputs": [
    {
     "data": {
      "text/plain": [
       "array([92, 95, 98])"
      ]
     },
     "execution_count": 99,
     "metadata": {},
     "output_type": "execute_result"
    }
   ],
   "source": [
    "high_performers"
   ]
  },
  {
   "cell_type": "code",
   "execution_count": 100,
   "id": "de45bd60",
   "metadata": {},
   "outputs": [
    {
     "data": {
      "text/plain": [
       "array([85, 90, 88, 92, 95, 80, 98, 89, 83])"
      ]
     },
     "execution_count": 100,
     "metadata": {},
     "output_type": "execute_result"
    }
   ],
   "source": [
    "# Create a new array called \"passing_grades\" that contains all the grades above 75.\n",
    "\n",
    "grades[grades > 75]"
   ]
  },
  {
   "cell_type": "code",
   "execution_count": 101,
   "id": "e604f802",
   "metadata": {},
   "outputs": [],
   "source": [
    "passing_grades = grades[grades > 75]"
   ]
  },
  {
   "cell_type": "code",
   "execution_count": 102,
   "id": "58171f44",
   "metadata": {},
   "outputs": [
    {
     "data": {
      "text/plain": [
       "array([85, 90, 88, 92, 95, 80, 98, 89, 83])"
      ]
     },
     "execution_count": 102,
     "metadata": {},
     "output_type": "execute_result"
    }
   ],
   "source": [
    "passing_grades"
   ]
  },
  {
   "cell_type": "code",
   "execution_count": null,
   "id": "e101e411",
   "metadata": {},
   "outputs": [],
   "source": []
  }
 ],
 "metadata": {
  "kernelspec": {
   "display_name": "Python 3 (ipykernel)",
   "language": "python",
   "name": "python3"
  },
  "language_info": {
   "codemirror_mode": {
    "name": "ipython",
    "version": 3
   },
   "file_extension": ".py",
   "mimetype": "text/x-python",
   "name": "python",
   "nbconvert_exporter": "python",
   "pygments_lexer": "ipython3",
   "version": "3.11.5"
  }
 },
 "nbformat": 4,
 "nbformat_minor": 5
}
